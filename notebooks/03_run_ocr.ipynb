{
 "cells": [
  {
   "cell_type": "markdown",
   "metadata": {
    "vscode": {
     "languageId": "plaintext"
    }
   },
   "source": [
    "# OCR Processing for PDF Page Images\n",
    "\n",
    "This notebook applies OCR to PNG page images (from PDFs in `../tmp/input_pdf`)  \n",
    "\n",
    "and saves the extracted text and metadata as JSON files in `../tmp/output/`."
   ]
  },
  {
   "cell_type": "code",
   "execution_count": null,
   "metadata": {},
   "outputs": [],
   "source": [
    "# TODO: Currently `results = ocr_engine.run_ocr(image)` in `process_document_folder(image_dir, output_dir)` is just a dummy\n",
    "# Ideas for models/approaches to try:\n",
    "# - SuryaOCR\n",
    "# - TrOCR\n",
    "# - Huggingface: SmolVLM"
   ]
  },
  {
   "cell_type": "code",
   "execution_count": null,
   "metadata": {},
   "outputs": [],
   "source": [
    "import sys\n",
    "from pathlib import Path\n",
    "\n",
    "# Automatically go two levels up from this notebook's location\n",
    "notebook_dir = Path().resolve()\n",
    "root_dir = notebook_dir.parent\n",
    "sys.path.append(str(root_dir))\n",
    "\n",
    "from tests.local_test import process_document_folder"
   ]
  },
  {
   "cell_type": "code",
   "execution_count": null,
   "metadata": {},
   "outputs": [],
   "source": [
    "INPUT_PDF_DIR = Path(\"../tmp/input_pdf\")\n",
    "IMAGE_OUTPUT_BASE = Path(\"../tmp/data\")\n",
    "OUTPUT_ROOT = Path(\"../tmp/output\")"
   ]
  },
  {
   "cell_type": "code",
   "execution_count": null,
   "metadata": {},
   "outputs": [],
   "source": [
    "if not INPUT_PDF_DIR.exists():\n",
    "    pass\n",
    "\n",
    "pdf_files = list(INPUT_PDF_DIR.glob(\"*.pdf\"))\n",
    "if not pdf_files:\n",
    "    pass\n",
    "\n",
    "for pdf in pdf_files:\n",
    "    stem = pdf.stem.lower().replace(\" \", \"_\")\n",
    "    image_dir = IMAGE_OUTPUT_BASE / stem\n",
    "    output_dir = OUTPUT_ROOT / stem\n",
    "\n",
    "    process_document_folder(image_dir, output_dir)"
   ]
  }
 ],
 "metadata": {
  "language_info": {
   "name": "python"
  }
 },
 "nbformat": 4,
 "nbformat_minor": 2
}
