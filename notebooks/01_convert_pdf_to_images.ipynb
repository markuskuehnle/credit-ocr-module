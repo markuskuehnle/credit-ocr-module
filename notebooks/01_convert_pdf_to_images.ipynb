{
 "cells": [
  {
   "cell_type": "markdown",
   "metadata": {},
   "source": [
    "# PDF to PNG Conversion\n",
    "\n",
    "This notebook converts all PDF files in `tmp/input_pdf/` into individual PNG page images.\n",
    "\n",
    "The resulting images are saved in `tmp/data/input_page_images/`."
   ]
  },
  {
   "cell_type": "code",
   "execution_count": 8,
   "metadata": {},
   "outputs": [],
   "source": [
    "import sys\n",
    "from pathlib import Path\n",
    "\n",
    "# Automatically go two levels up from this notebook's location\n",
    "notebook_dir = Path().resolve()\n",
    "root_dir = notebook_dir.parent\n",
    "sys.path.append(str(root_dir))\n",
    "\n",
    "from tests.local_test import convert_pdf_to_images"
   ]
  },
  {
   "cell_type": "code",
   "execution_count": 9,
   "metadata": {},
   "outputs": [],
   "source": [
    "INPUT_PDF_DIR = Path(\"../tmp/input_pdf\")\n",
    "IMAGE_OUTPUT_BASE = Path(\"../tmp/data\")\n",
    "OUTPUT_ROOT = Path(\"../tmp/output\")\n",
    "\n",
    "OUTPUT_ROOT.mkdir(parents=True, exist_ok=True)\n",
    "IMAGE_OUTPUT_BASE.mkdir(parents=True, exist_ok=True)"
   ]
  },
  {
   "cell_type": "code",
   "execution_count": 10,
   "metadata": {},
   "outputs": [
    {
     "name": "stderr",
     "output_type": "stream",
     "text": [
      "INFO:tests.local_test:Skipping conversion. PNGs already exist in ../tmp/data/sample\n"
     ]
    }
   ],
   "source": [
    "if not INPUT_PDF_DIR.exists():\n",
    "    pass\n",
    "\n",
    "pdf_files = list(INPUT_PDF_DIR.glob(\"*.pdf\"))\n",
    "if not pdf_files:\n",
    "    pass\n",
    "\n",
    "for pdf in pdf_files:\n",
    "    stem = pdf.stem.lower().replace(\" \", \"_\")\n",
    "    image_dir = IMAGE_OUTPUT_BASE / stem\n",
    "    output_dir = OUTPUT_ROOT / stem\n",
    "\n",
    "    convert_pdf_to_images(pdf, image_dir)"
   ]
  }
 ],
 "metadata": {
  "kernelspec": {
   "display_name": ".venv",
   "language": "python",
   "name": "python3"
  },
  "language_info": {
   "codemirror_mode": {
    "name": "ipython",
    "version": 3
   },
   "file_extension": ".py",
   "mimetype": "text/x-python",
   "name": "python",
   "nbconvert_exporter": "python",
   "pygments_lexer": "ipython3",
   "version": "3.10.16"
  }
 },
 "nbformat": 4,
 "nbformat_minor": 2
}
